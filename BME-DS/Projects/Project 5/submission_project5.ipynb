{
 "cells": [
  {
   "cell_type": "code",
   "execution_count": 1,
   "metadata": {
    "executionInfo": {
     "elapsed": 211,
     "status": "ok",
     "timestamp": 1696267980470,
     "user": {
      "displayName": "Ryan Nguyen",
      "userId": "07350379208866966942"
     },
     "user_tz": 240
    },
    "id": "8TUg_irMrkXd"
   },
   "outputs": [],
   "source": [
    "import math\n",
    "import numpy as np\n",
    "import pandas as pd\n",
    "import matplotlib.pyplot as plt\n",
    "from sklearn.preprocessing import StandardScaler\n",
    "from sklearn.preprocessing import OrdinalEncoder\n",
    "from sklearn.model_selection import train_test_split\n",
    "from sklearn.metrics import mean_squared_error\n",
    "from sklearn.metrics import r2_score\n",
    "import statsmodels.formula.api as smf\n",
    "import torch\n",
    "import torch.nn as nn\n",
    "from torch.nn import functional as F"
   ]
  },
  {
   "cell_type": "markdown",
   "metadata": {
    "id": "GQ7Ex0vKsF71"
   },
   "source": [
    "# Question 1"
   ]
  },
  {
   "cell_type": "code",
   "execution_count": 2,
   "metadata": {
    "colab": {
     "base_uri": "https://localhost:8080/",
     "height": 226
    },
    "executionInfo": {
     "elapsed": 245,
     "status": "ok",
     "timestamp": 1696259791996,
     "user": {
      "displayName": "Ryan Nguyen",
      "userId": "07350379208866966942"
     },
     "user_tz": 240
    },
    "id": "D5Q69WL7sU_I",
    "outputId": "4bd643c9-e76e-46da-bbff-59d1baff38d5"
   },
   "outputs": [
    {
     "data": {
      "text/html": [
       "<div>\n",
       "<style scoped>\n",
       "    .dataframe tbody tr th:only-of-type {\n",
       "        vertical-align: middle;\n",
       "    }\n",
       "\n",
       "    .dataframe tbody tr th {\n",
       "        vertical-align: top;\n",
       "    }\n",
       "\n",
       "    .dataframe thead th {\n",
       "        text-align: right;\n",
       "    }\n",
       "</style>\n",
       "<table border=\"1\" class=\"dataframe\">\n",
       "  <thead>\n",
       "    <tr style=\"text-align: right;\">\n",
       "      <th></th>\n",
       "      <th>FLAIR</th>\n",
       "      <th>PD</th>\n",
       "      <th>T1</th>\n",
       "      <th>T2</th>\n",
       "      <th>FLAIR_10</th>\n",
       "      <th>PD_10</th>\n",
       "      <th>T1_10</th>\n",
       "      <th>T2_10</th>\n",
       "      <th>FLAIR_20</th>\n",
       "      <th>PD_20</th>\n",
       "      <th>T1_20</th>\n",
       "      <th>T2_20</th>\n",
       "      <th>GOLD_Lesions</th>\n",
       "      <th>norm_T2</th>\n",
       "    </tr>\n",
       "  </thead>\n",
       "  <tbody>\n",
       "    <tr>\n",
       "      <th>0</th>\n",
       "      <td>1.143692</td>\n",
       "      <td>1.586219</td>\n",
       "      <td>-0.799859</td>\n",
       "      <td>1.634467</td>\n",
       "      <td>0.437568</td>\n",
       "      <td>0.823800</td>\n",
       "      <td>-0.002059</td>\n",
       "      <td>0.573663</td>\n",
       "      <td>0.279832</td>\n",
       "      <td>0.548341</td>\n",
       "      <td>0.219136</td>\n",
       "      <td>0.298662</td>\n",
       "      <td>0</td>\n",
       "      <td>1.466353</td>\n",
       "    </tr>\n",
       "    <tr>\n",
       "      <th>1</th>\n",
       "      <td>1.652552</td>\n",
       "      <td>1.766672</td>\n",
       "      <td>-1.250992</td>\n",
       "      <td>0.921230</td>\n",
       "      <td>0.663037</td>\n",
       "      <td>0.880250</td>\n",
       "      <td>-0.422060</td>\n",
       "      <td>0.542597</td>\n",
       "      <td>0.422182</td>\n",
       "      <td>0.549711</td>\n",
       "      <td>0.061573</td>\n",
       "      <td>0.280972</td>\n",
       "      <td>0</td>\n",
       "      <td>0.534121</td>\n",
       "    </tr>\n",
       "    <tr>\n",
       "      <th>2</th>\n",
       "      <td>1.036099</td>\n",
       "      <td>0.262042</td>\n",
       "      <td>-0.858565</td>\n",
       "      <td>-0.058211</td>\n",
       "      <td>-0.044280</td>\n",
       "      <td>-0.308569</td>\n",
       "      <td>0.014766</td>\n",
       "      <td>-0.256075</td>\n",
       "      <td>-0.136532</td>\n",
       "      <td>-0.350905</td>\n",
       "      <td>0.020673</td>\n",
       "      <td>-0.259914</td>\n",
       "      <td>0</td>\n",
       "      <td>-0.746050</td>\n",
       "    </tr>\n",
       "    <tr>\n",
       "      <th>3</th>\n",
       "      <td>1.037692</td>\n",
       "      <td>0.011104</td>\n",
       "      <td>-1.228796</td>\n",
       "      <td>-0.470222</td>\n",
       "      <td>-0.013971</td>\n",
       "      <td>-0.000498</td>\n",
       "      <td>-0.395575</td>\n",
       "      <td>-0.221900</td>\n",
       "      <td>0.000807</td>\n",
       "      <td>-0.003085</td>\n",
       "      <td>-0.193249</td>\n",
       "      <td>-0.139284</td>\n",
       "      <td>0</td>\n",
       "      <td>-1.284565</td>\n",
       "    </tr>\n",
       "    <tr>\n",
       "      <th>4</th>\n",
       "      <td>1.580589</td>\n",
       "      <td>1.730152</td>\n",
       "      <td>-0.860949</td>\n",
       "      <td>1.245609</td>\n",
       "      <td>0.617957</td>\n",
       "      <td>0.866352</td>\n",
       "      <td>-0.099919</td>\n",
       "      <td>0.384261</td>\n",
       "      <td>0.391133</td>\n",
       "      <td>0.608826</td>\n",
       "      <td>0.071648</td>\n",
       "      <td>0.340601</td>\n",
       "      <td>0</td>\n",
       "      <td>0.958099</td>\n",
       "    </tr>\n",
       "  </tbody>\n",
       "</table>\n",
       "</div>"
      ],
      "text/plain": [
       "      FLAIR        PD        T1        T2  FLAIR_10     PD_10     T1_10  \\\n",
       "0  1.143692  1.586219 -0.799859  1.634467  0.437568  0.823800 -0.002059   \n",
       "1  1.652552  1.766672 -1.250992  0.921230  0.663037  0.880250 -0.422060   \n",
       "2  1.036099  0.262042 -0.858565 -0.058211 -0.044280 -0.308569  0.014766   \n",
       "3  1.037692  0.011104 -1.228796 -0.470222 -0.013971 -0.000498 -0.395575   \n",
       "4  1.580589  1.730152 -0.860949  1.245609  0.617957  0.866352 -0.099919   \n",
       "\n",
       "      T2_10  FLAIR_20     PD_20     T1_20     T2_20  GOLD_Lesions   norm_T2  \n",
       "0  0.573663  0.279832  0.548341  0.219136  0.298662             0  1.466353  \n",
       "1  0.542597  0.422182  0.549711  0.061573  0.280972             0  0.534121  \n",
       "2 -0.256075 -0.136532 -0.350905  0.020673 -0.259914             0 -0.746050  \n",
       "3 -0.221900  0.000807 -0.003085 -0.193249 -0.139284             0 -1.284565  \n",
       "4  0.384261  0.391133  0.608826  0.071648  0.340601             0  0.958099  "
      ]
     },
     "execution_count": 2,
     "metadata": {},
     "output_type": "execute_result"
    }
   ],
   "source": [
    "url = \"https://raw.githubusercontent.com/bcaffo/ds4bme_intro/master/data/oasis.csv\"\n",
    "oasis_data = pd.read_csv(url)\n",
    "norm_T2 = StandardScaler().fit_transform(oasis_data[\"T2\"].to_numpy().reshape(-1, 1))\n",
    "oasis_data = oasis_data.assign(norm_T2 = norm_T2)\n",
    "oasis_data.head()"
   ]
  },
  {
   "cell_type": "code",
   "execution_count": 3,
   "metadata": {
    "colab": {
     "base_uri": "https://localhost:8080/",
     "height": 304
    },
    "executionInfo": {
     "elapsed": 300,
     "status": "ok",
     "timestamp": 1696259798929,
     "user": {
      "displayName": "Ryan Nguyen",
      "userId": "07350379208866966942"
     },
     "user_tz": 240
    },
    "id": "7xweSgwo2QgJ",
    "outputId": "d81b93d5-45a9-4992-8c39-1216c9e7252e"
   },
   "outputs": [
    {
     "name": "stdout",
     "output_type": "stream",
     "text": [
      "Optimization terminated successfully.\n",
      "         Current function value: 0.687421\n",
      "         Iterations 4\n"
     ]
    },
    {
     "data": {
      "text/html": [
       "<table class=\"simpletable\">\n",
       "<caption>Logit Regression Results</caption>\n",
       "<tr>\n",
       "  <th>Dep. Variable:</th>     <td>GOLD_Lesions</td>   <th>  No. Observations:  </th>  <td>   100</td> \n",
       "</tr>\n",
       "<tr>\n",
       "  <th>Model:</th>                 <td>Logit</td>      <th>  Df Residuals:      </th>  <td>    98</td> \n",
       "</tr>\n",
       "<tr>\n",
       "  <th>Method:</th>                 <td>MLE</td>       <th>  Df Model:          </th>  <td>     1</td> \n",
       "</tr>\n",
       "<tr>\n",
       "  <th>Date:</th>            <td>Tue, 26 Dec 2023</td> <th>  Pseudo R-squ.:     </th> <td>0.008262</td>\n",
       "</tr>\n",
       "<tr>\n",
       "  <th>Time:</th>                <td>19:09:36</td>     <th>  Log-Likelihood:    </th> <td> -68.742</td>\n",
       "</tr>\n",
       "<tr>\n",
       "  <th>converged:</th>             <td>True</td>       <th>  LL-Null:           </th> <td> -69.315</td>\n",
       "</tr>\n",
       "<tr>\n",
       "  <th>Covariance Type:</th>     <td>nonrobust</td>    <th>  LLR p-value:       </th>  <td>0.2845</td> \n",
       "</tr>\n",
       "</table>\n",
       "<table class=\"simpletable\">\n",
       "<tr>\n",
       "      <td></td>         <th>coef</th>     <th>std err</th>      <th>z</th>      <th>P>|z|</th>  <th>[0.025</th>    <th>0.975]</th>  \n",
       "</tr>\n",
       "<tr>\n",
       "  <th>Intercept</th> <td>    0.0005</td> <td>    0.201</td> <td>    0.002</td> <td> 0.998</td> <td>   -0.394</td> <td>    0.395</td>\n",
       "</tr>\n",
       "<tr>\n",
       "  <th>norm_T2</th>   <td>    0.2159</td> <td>    0.204</td> <td>    1.061</td> <td> 0.289</td> <td>   -0.183</td> <td>    0.615</td>\n",
       "</tr>\n",
       "</table>"
      ],
      "text/plain": [
       "<class 'statsmodels.iolib.summary.Summary'>\n",
       "\"\"\"\n",
       "                           Logit Regression Results                           \n",
       "==============================================================================\n",
       "Dep. Variable:           GOLD_Lesions   No. Observations:                  100\n",
       "Model:                          Logit   Df Residuals:                       98\n",
       "Method:                           MLE   Df Model:                            1\n",
       "Date:                Tue, 26 Dec 2023   Pseudo R-squ.:                0.008262\n",
       "Time:                        19:09:36   Log-Likelihood:                -68.742\n",
       "converged:                       True   LL-Null:                       -69.315\n",
       "Covariance Type:            nonrobust   LLR p-value:                    0.2845\n",
       "==============================================================================\n",
       "                 coef    std err          z      P>|z|      [0.025      0.975]\n",
       "------------------------------------------------------------------------------\n",
       "Intercept      0.0005      0.201      0.002      0.998      -0.394       0.395\n",
       "norm_T2        0.2159      0.204      1.061      0.289      -0.183       0.615\n",
       "==============================================================================\n",
       "\"\"\""
      ]
     },
     "execution_count": 3,
     "metadata": {},
     "output_type": "execute_result"
    }
   ],
   "source": [
    "fit = smf.logit('GOLD_Lesions ~ norm_T2', data = oasis_data).fit()\n",
    "fit.summary()"
   ]
  },
  {
   "cell_type": "code",
   "execution_count": 4,
   "metadata": {
    "executionInfo": {
     "elapsed": 3,
     "status": "ok",
     "timestamp": 1696259814550,
     "user": {
      "displayName": "Ryan Nguyen",
      "userId": "07350379208866966942"
     },
     "user_tz": 240
    },
    "id": "geRcmzp84SHv"
   },
   "outputs": [],
   "source": [
    "yhat = 1 / (1 + np.exp(-fit.fittedvalues))"
   ]
  },
  {
   "cell_type": "code",
   "execution_count": 5,
   "metadata": {
    "colab": {
     "base_uri": "https://localhost:8080/"
    },
    "executionInfo": {
     "elapsed": 4,
     "status": "ok",
     "timestamp": 1696259818936,
     "user": {
      "displayName": "Ryan Nguyen",
      "userId": "07350379208866966942"
     },
     "user_tz": 240
    },
    "id": "A2hp21-czVfo",
    "outputId": "8fa307e9-0911-4372-de21-1ccd2e8f9fc7"
   },
   "outputs": [
    {
     "data": {
      "text/plain": [
       "[torch.Size([100, 1]), torch.Size([100, 1]), [100, 1]]"
      ]
     },
     "execution_count": 5,
     "metadata": {},
     "output_type": "execute_result"
    }
   ],
   "source": [
    "n = oasis_data.shape[0]\n",
    "X = torch.from_numpy(oasis_data[\"norm_T2\"].values).float().unsqueeze(1)\n",
    "y = torch.from_numpy(oasis_data[\"GOLD_Lesions\"].values).float().unsqueeze(1)\n",
    "[X.shape, y.shape, [n, 1]]"
   ]
  },
  {
   "cell_type": "code",
   "execution_count": 6,
   "metadata": {
    "executionInfo": {
     "elapsed": 243,
     "status": "ok",
     "timestamp": 1696260227708,
     "user": {
      "displayName": "Ryan Nguyen",
      "userId": "07350379208866966942"
     },
     "user_tz": 240
    },
    "id": "v5F0Eujg1f6v"
   },
   "outputs": [],
   "source": [
    "class LogisticRegression(nn.Module):\n",
    "     def __init__(self):\n",
    "        super(LogisticRegression, self).__init__()\n",
    "        self.pipe = nn.Sequential(nn.Linear(1, 1),\n",
    "                                  nn.Sigmoid())\n",
    "     def forward(self, x):\n",
    "        return self.pipe(x)"
   ]
  },
  {
   "cell_type": "code",
   "execution_count": 7,
   "metadata": {
    "executionInfo": {
     "elapsed": 35539,
     "status": "ok",
     "timestamp": 1696260355673,
     "user": {
      "displayName": "Ryan Nguyen",
      "userId": "07350379208866966942"
     },
     "user_tz": 240
    },
    "id": "kRnt99_V1PfC"
   },
   "outputs": [],
   "source": [
    "numEpochs = 1000\n",
    "lr = 1e-1\n",
    "model = LogisticRegression()\n",
    "loss_fn = nn.BCELoss()\n",
    "optimizer = torch.optim.SGD(model.parameters(), lr = lr)\n",
    "\n",
    "for epoch in range(numEpochs):\n",
    "    y_pred = model(X)\n",
    "    loss = loss_fn(y_pred, y)\n",
    "    model.zero_grad()\n",
    "    loss.backward()\n",
    "    optimizer.step()"
   ]
  },
  {
   "cell_type": "code",
   "execution_count": 8,
   "metadata": {
    "colab": {
     "base_uri": "https://localhost:8080/",
     "height": 447
    },
    "executionInfo": {
     "elapsed": 362,
     "status": "ok",
     "timestamp": 1696260372610,
     "user": {
      "displayName": "Ryan Nguyen",
      "userId": "07350379208866966942"
     },
     "user_tz": 240
    },
    "id": "skkSuqxm5g_L",
    "outputId": "b8ec5d17-06f8-4db8-a4a0-ef5c09dd6df0"
   },
   "outputs": [
    {
     "data": {
      "text/plain": [
       "[<matplotlib.lines.Line2D at 0x283a4ac8880>]"
      ]
     },
     "execution_count": 8,
     "metadata": {},
     "output_type": "execute_result"
    },
    {
     "data": {
      "image/png": "[encoded data removed]",
      "text/plain": [
       "<Figure size 640x480 with 1 Axes>"
      ]
     },
     "metadata": {},
     "output_type": "display_data"
    }
   ],
   "source": [
    "ytest = model(X)\n",
    "ytest = ytest.detach().numpy().reshape(-1)\n",
    "plt.plot(yhat, ytest,  \".\")\n",
    "plt.plot([0, 1], [0, 1], linewidth=1)"
   ]
  },
  {
   "cell_type": "code",
   "execution_count": 9,
   "metadata": {
    "colab": {
     "base_uri": "https://localhost:8080/"
    },
    "executionInfo": {
     "elapsed": 314,
     "status": "ok",
     "timestamp": 1696260381160,
     "user": {
      "displayName": "Ryan Nguyen",
      "userId": "07350379208866966942"
     },
     "user_tz": 240
    },
    "id": "CWSyekRB6QDm",
    "outputId": "d5d6e7f2-ca7e-4d7c-9fc5-493b003cd6a4",
    "scrolled": true
   },
   "outputs": [
    {
     "name": "stdout",
     "output_type": "stream",
     "text": [
      "tensor([[0.2159]])\n",
      "tensor([0.0005])\n"
     ]
    }
   ],
   "source": [
    "for param in model.parameters():\n",
    "  print(param.data)"
   ]
  },
  {
   "cell_type": "markdown",
   "metadata": {
    "id": "LLiSpeJV73Ww"
   },
   "source": [
    "Both parameters are the exact same as the StatsModel Logistic Regression. Their results & accuracy are identical. "
   ]
  },
  {
   "cell_type": "markdown",
   "metadata": {
    "id": "oFJFVy5vsIWx"
   },
   "source": [
    "# Question 2"
   ]
  },
  {
   "cell_type": "markdown",
   "metadata": {
    "id": "9lDNJDjU_O2C"
   },
   "source": [
    "### Data Loading"
   ]
  },
  {
   "cell_type": "code",
   "execution_count": 10,
   "metadata": {
    "executionInfo": {
     "elapsed": 1178,
     "status": "ok",
     "timestamp": 1696266314819,
     "user": {
      "displayName": "Ryan Nguyen",
      "userId": "07350379208866966942"
     },
     "user_tz": 240
    },
    "id": "WYHpSmgS9DDT"
   },
   "outputs": [
    {
     "data": {
      "text/html": [
       "<div>\n",
       "<style scoped>\n",
       "    .dataframe tbody tr th:only-of-type {\n",
       "        vertical-align: middle;\n",
       "    }\n",
       "\n",
       "    .dataframe tbody tr th {\n",
       "        vertical-align: top;\n",
       "    }\n",
       "\n",
       "    .dataframe thead th {\n",
       "        text-align: right;\n",
       "    }\n",
       "</style>\n",
       "<table border=\"1\" class=\"dataframe\">\n",
       "  <thead>\n",
       "    <tr style=\"text-align: right;\">\n",
       "      <th></th>\n",
       "      <th>carat</th>\n",
       "      <th>cut</th>\n",
       "      <th>color</th>\n",
       "      <th>clarity</th>\n",
       "      <th>depth</th>\n",
       "      <th>table</th>\n",
       "      <th>price</th>\n",
       "      <th>x</th>\n",
       "      <th>y</th>\n",
       "      <th>z</th>\n",
       "    </tr>\n",
       "  </thead>\n",
       "  <tbody>\n",
       "    <tr>\n",
       "      <th>0</th>\n",
       "      <td>0.23</td>\n",
       "      <td>Ideal</td>\n",
       "      <td>E</td>\n",
       "      <td>SI2</td>\n",
       "      <td>61.5</td>\n",
       "      <td>55.0</td>\n",
       "      <td>326</td>\n",
       "      <td>3.95</td>\n",
       "      <td>3.98</td>\n",
       "      <td>2.43</td>\n",
       "    </tr>\n",
       "    <tr>\n",
       "      <th>1</th>\n",
       "      <td>0.21</td>\n",
       "      <td>Premium</td>\n",
       "      <td>E</td>\n",
       "      <td>SI1</td>\n",
       "      <td>59.8</td>\n",
       "      <td>61.0</td>\n",
       "      <td>326</td>\n",
       "      <td>3.89</td>\n",
       "      <td>3.84</td>\n",
       "      <td>2.31</td>\n",
       "    </tr>\n",
       "    <tr>\n",
       "      <th>2</th>\n",
       "      <td>0.23</td>\n",
       "      <td>Good</td>\n",
       "      <td>E</td>\n",
       "      <td>VS1</td>\n",
       "      <td>56.9</td>\n",
       "      <td>65.0</td>\n",
       "      <td>327</td>\n",
       "      <td>4.05</td>\n",
       "      <td>4.07</td>\n",
       "      <td>2.31</td>\n",
       "    </tr>\n",
       "    <tr>\n",
       "      <th>3</th>\n",
       "      <td>0.29</td>\n",
       "      <td>Premium</td>\n",
       "      <td>I</td>\n",
       "      <td>VS2</td>\n",
       "      <td>62.4</td>\n",
       "      <td>58.0</td>\n",
       "      <td>334</td>\n",
       "      <td>4.20</td>\n",
       "      <td>4.23</td>\n",
       "      <td>2.63</td>\n",
       "    </tr>\n",
       "    <tr>\n",
       "      <th>4</th>\n",
       "      <td>0.31</td>\n",
       "      <td>Good</td>\n",
       "      <td>J</td>\n",
       "      <td>SI2</td>\n",
       "      <td>63.3</td>\n",
       "      <td>58.0</td>\n",
       "      <td>335</td>\n",
       "      <td>4.34</td>\n",
       "      <td>4.35</td>\n",
       "      <td>2.75</td>\n",
       "    </tr>\n",
       "  </tbody>\n",
       "</table>\n",
       "</div>"
      ],
      "text/plain": [
       "   carat      cut color clarity  depth  table  price     x     y     z\n",
       "0   0.23    Ideal     E     SI2   61.5   55.0    326  3.95  3.98  2.43\n",
       "1   0.21  Premium     E     SI1   59.8   61.0    326  3.89  3.84  2.31\n",
       "2   0.23     Good     E     VS1   56.9   65.0    327  4.05  4.07  2.31\n",
       "3   0.29  Premium     I     VS2   62.4   58.0    334  4.20  4.23  2.63\n",
       "4   0.31     Good     J     SI2   63.3   58.0    335  4.34  4.35  2.75"
      ]
     },
     "execution_count": 10,
     "metadata": {},
     "output_type": "execute_result"
    }
   ],
   "source": [
    "url = \"https://raw.githubusercontent.com/tidyverse/ggplot2/master/data-raw/diamonds.csv\"\n",
    "diamond_data = pd.read_csv(url)\n",
    "diamond_data.head()"
   ]
  },
  {
   "cell_type": "markdown",
   "metadata": {
    "id": "JC0cvO5H_STa"
   },
   "source": [
    "### Preprocessing"
   ]
  },
  {
   "cell_type": "code",
   "execution_count": 11,
   "metadata": {
    "executionInfo": {
     "elapsed": 5,
     "status": "ok",
     "timestamp": 1696266315656,
     "user": {
      "displayName": "Ryan Nguyen",
      "userId": "07350379208866966942"
     },
     "user_tz": 240
    },
    "id": "wpcCTMknPRl-"
   },
   "outputs": [],
   "source": [
    "norm_carat = StandardScaler().fit_transform(diamond_data[\"carat\"].to_numpy().reshape(-1, 1))\n",
    "diamond_data = diamond_data.assign(norm_carat = norm_carat)"
   ]
  },
  {
   "cell_type": "code",
   "execution_count": 12,
   "metadata": {
    "executionInfo": {
     "elapsed": 312,
     "status": "ok",
     "timestamp": 1696266317330,
     "user": {
      "displayName": "Ryan Nguyen",
      "userId": "07350379208866966942"
     },
     "user_tz": 240
    },
    "id": "5d8U_vuA-Eiu"
   },
   "outputs": [],
   "source": [
    "enc1 = OrdinalEncoder(categories = [[\"Ideal\", \"Premium\", \"Very Good\", \"Good\", \"Fair\"]])\n",
    "diamond_data[\"cut\"] = enc1.fit_transform(diamond_data[\"cut\"].to_numpy().reshape((-1,1)))\n",
    "\n",
    "enc2 = OrdinalEncoder(categories = [[\"D\", \"E\", \"F\", \"G\", \"H\", \"I\", \"J\"]])\n",
    "diamond_data[\"color\"] = enc2.fit_transform(diamond_data[\"color\"].to_numpy().reshape((-1,1)))\n",
    "\n",
    "enc3 = OrdinalEncoder(categories = [[\"IF\", \"VVS1\", \"VVS2\", \"VS1\", \"VS2\", \"SI1\", \"SI2\", \"I1\"]])\n",
    "diamond_data[\"clarity\"] = enc3.fit_transform(diamond_data[\"clarity\"].to_numpy().reshape((-1,1)))"
   ]
  },
  {
   "cell_type": "markdown",
   "metadata": {
    "id": "BzHBoLJsA5nA"
   },
   "source": [
    "# Training"
   ]
  },
  {
   "cell_type": "code",
   "execution_count": 13,
   "metadata": {
    "id": "2fhKXqUWCCCJ"
   },
   "outputs": [],
   "source": [
    "X = torch.tensor(diamond_data[[\"norm_carat\", \"cut\", \"color\", \"clarity\"]].values, dtype = torch.float)\n",
    "y = torch.tensor(diamond_data[\"price\"].values, dtype = torch.float)\n",
    "X_train, X_test, y_train, y_test = train_test_split(X, y, test_size = 0.25, train_size = 0.75)\n",
    "y_train = y_train.unsqueeze(1)\n",
    "y_test = y_test.unsqueeze(1)"
   ]
  },
  {
   "cell_type": "code",
   "execution_count": 14,
   "metadata": {},
   "outputs": [],
   "source": [
    "class DiamondRegression(nn.Module):\n",
    "     def __init__(self):\n",
    "        super(DiamondRegression, self).__init__()\n",
    "        self.pipe = torch.nn.Sequential(nn.Linear(4, 3),      \n",
    "                                        nn.ReLU(),\n",
    "                                        nn.Linear(3, 2),        \n",
    "                                        nn.ReLU(),\n",
    "                                        nn.Linear(2, 1))\n",
    "     def forward(self, x):\n",
    "        return self.pipe(x)"
   ]
  },
  {
   "cell_type": "code",
   "execution_count": 47,
   "metadata": {
    "id": "DrZfZN1RCHLf"
   },
   "outputs": [],
   "source": [
    "numEpochs = 50000\n",
    "lr = 5e-4\n",
    "model = DiamondRegression()\n",
    "loss_fn = nn.MSELoss(reduction='sum')\n",
    "optimizer = torch.optim.Adam(model.parameters(), lr = lr)\n",
    "\n",
    "for epoch in range(numEpochs):\n",
    "    y_pred = model(X_train)\n",
    "    loss = loss_fn(y_pred, y_train)\n",
    "    optimizer.zero_grad()\n",
    "    loss.backward()\n",
    "    optimizer.step()"
   ]
  },
  {
   "cell_type": "markdown",
   "metadata": {
    "id": "RAnGX5XMB6bW"
   },
   "source": [
    "# Testing"
   ]
  },
  {
   "cell_type": "code",
   "execution_count": 48,
   "metadata": {
    "id": "1lplU0ENCIyn"
   },
   "outputs": [
    {
     "name": "stdout",
     "output_type": "stream",
     "text": [
      "The root mean squared error of the neural network on testing data is 933.01\n",
      "The R-squared score of the neural network on testing data is 0.94\n"
     ]
    }
   ],
   "source": [
    "# Results\n",
    "ytest_pred = model(X_test).detach().numpy()\n",
    "rmse = mean_squared_error(y_test, ytest_pred, squared=False)\n",
    "print(f'The root mean squared error of the neural network on testing data is {rmse:.02f}')\n",
    "r2 = r2_score(y_test, ytest_pred, multioutput='variance_weighted')\n",
    "print(f'The R-squared score of the neural network on testing data is {r2:.02f}')"
   ]
  }
 ],
 "metadata": {
  "colab": {
   "authorship_tag": "ABX9TyPJubA2UP9EtF9gLBJpock0",
   "collapsed_sections": [
    "BzHBoLJsA5nA"
   ],
   "provenance": []
  },
  "kernelspec": {
   "display_name": "Python 3 (ipykernel)",
   "language": "python",
   "name": "python3"
  },
  "language_info": {
   "codemirror_mode": {
    "name": "ipython",
    "version": 3
   },
   "file_extension": ".py",
   "mimetype": "text/x-python",
   "name": "python",
   "nbconvert_exporter": "python",
   "pygments_lexer": "ipython3",
   "version": "3.9.18"
  }
 },
 "nbformat": 4,
 "nbformat_minor": 1
}
