{
 "cells": [
  {
   "cell_type": "markdown",
   "id": "4eb8e144",
   "metadata": {},
   "source": [
    "## Importing Libraries & Loading Data"
   ]
  },
  {
   "cell_type": "code",
   "execution_count": 12,
   "id": "02e2ba7b",
   "metadata": {
    "scrolled": true
   },
   "outputs": [],
   "source": [
    "import pandas as pd\n",
    "import numpy as np\n",
    "from sklearn import linear_model\n",
    "import matplotlib.pyplot as plt\n",
    "import statsmodels.api as sm"
   ]
  },
  {
   "cell_type": "code",
   "execution_count": null,
   "id": "fc6cfc5d",
   "metadata": {},
   "outputs": [],
   "source": [
    "case_file = 'time_series_covid19_confirmed_global.csv'\n",
    "case_data = pd.read_csv(case_file)"
   ]
  },
  {
   "cell_type": "code",
   "execution_count": null,
   "id": "e1db8e73",
   "metadata": {
    "scrolled": false
   },
   "outputs": [],
   "source": [
    "case_data.head(4)"
   ]
  },
  {
   "cell_type": "markdown",
   "id": "b570823f",
   "metadata": {},
   "source": [
    "## Question 1"
   ]
  },
  {
   "cell_type": "code",
   "execution_count": null,
   "id": "22ce7acb",
   "metadata": {},
   "outputs": [],
   "source": [
    "N = 4\n",
    "names = case_data.iloc[0:N][\"Country/Region\"]\n",
    "raw_cases = np.array(case_data.iloc[0:N].drop([\"Province/State\", \"Country/Region\", \"Lat\", \"Long\"], axis=1))"
   ]
  },
  {
   "cell_type": "code",
   "execution_count": null,
   "id": "7c3ec9c9",
   "metadata": {},
   "outputs": [],
   "source": [
    "nc_counts = np.zeros((raw_cases[0].size - 1) * N).reshape(N, -1)"
   ]
  },
  {
   "cell_type": "code",
   "execution_count": null,
   "id": "6e548f6c",
   "metadata": {},
   "outputs": [],
   "source": [
    "for i in range(N):\n",
    "    x = raw_cases[i]\n",
    "    nc_counts[i] = x[1 : x.size] - x[0 : (x.size - 1)]"
   ]
  },
  {
   "cell_type": "code",
   "execution_count": null,
   "id": "c7ea25fb",
   "metadata": {},
   "outputs": [],
   "source": [
    "cases = [count[np.min(np.where(count != 0)): count.size] for count in nc_counts]"
   ]
  },
  {
   "cell_type": "code",
   "execution_count": null,
   "id": "1c5fb40c",
   "metadata": {
    "scrolled": true
   },
   "outputs": [],
   "source": [
    "fig, axs = plt.subplots(4, figsize=(15, 4))\n",
    "fig.suptitle(\"New Covid-19 Cases Time Series By Country\")\n",
    "plt.xlabel(\"Days Since First Nonzero Case Day\")\n",
    "for i in range(N):\n",
    "    axs[i].plot(np.arange(0, cases[i].size, 1), cases[i])\n",
    "    axs[i].set_ylabel(f'{names[i]}')"
   ]
  },
  {
   "cell_type": "markdown",
   "id": "abb0f4dd",
   "metadata": {},
   "source": [
    "## Question 2"
   ]
  },
  {
   "cell_type": "code",
   "execution_count": null,
   "id": "ea02301b",
   "metadata": {},
   "outputs": [],
   "source": [
    "fig, axs = plt.subplots(4, figsize=(15, 4))\n",
    "fig.suptitle(\"Covid-19 Cases Time Series Vs Smoothed (Lowess) Version\")\n",
    "plt.xlabel(\"Days Since First Nonzero Case Day\")\n",
    "smooth_cases = [np.zeros(cases[i].size) for i in range(N)]\n",
    "lowess = sm.nonparametric.lowess\n",
    "for i in range(N):\n",
    "    smooth_cases[i] = lowess(cases[i], np.arange(0, cases[i].size, 1), frac = .05, return_sorted = False)\n",
    "    axs[i].plot(cases[i])\n",
    "    axs[i].plot(smooth_cases[i])\n",
    "    axs[i].set_ylabel(f'{names[i]}')\n",
    "    axs[i].legend([\"Raw\", \"Smoothed\"])"
   ]
  },
  {
   "cell_type": "markdown",
   "id": "ea144d5e",
   "metadata": {},
   "source": [
    "## Question 3"
   ]
  },
  {
   "cell_type": "code",
   "execution_count": null,
   "id": "e5609e86",
   "metadata": {
    "scrolled": false
   },
   "outputs": [],
   "source": [
    "fig, axs = plt.subplots(4, figsize=(15, 4))\n",
    "fig.suptitle(\"Covid-19 Case Data Residuals (Observed - Smoothed)\")\n",
    "plt.xlabel(\"Days Since First Nonzero Case Day\")\n",
    "for i in range(N):\n",
    "    res = cases[i] - smooth_cases[i]\n",
    "    axs[i].plot(res)\n",
    "    axs[i].set_ylabel(f'{names[i]}')"
   ]
  },
  {
   "cell_type": "markdown",
   "id": "8db052f4",
   "metadata": {},
   "source": [
    "## Question 4"
   ]
  },
  {
   "cell_type": "code",
   "execution_count": null,
   "id": "7518dc3c",
   "metadata": {},
   "outputs": [],
   "source": [
    "death_data = pd.read_csv(\"time_series_covid19_deaths_global.csv\")"
   ]
  },
  {
   "cell_type": "code",
   "execution_count": null,
   "id": "20e8fada",
   "metadata": {
    "scrolled": true
   },
   "outputs": [],
   "source": [
    "death_data.head(4)"
   ]
  },
  {
   "cell_type": "code",
   "execution_count": null,
   "id": "9d6be421",
   "metadata": {
    "scrolled": true
   },
   "outputs": [],
   "source": [
    "tot_fatal = np.sum(np.array(death_data.iloc[:, -1])) / np.sum(np.array(case_data.iloc[:, -1]))\n",
    "print(f'The overall case fatality rate is {tot_fatal:.4f}, i.e. {tot_fatal * 100:.2f}%.')"
   ]
  },
  {
   "cell_type": "markdown",
   "id": "43fd63d0",
   "metadata": {},
   "source": [
    "## Question 5"
   ]
  },
  {
   "cell_type": "code",
   "execution_count": null,
   "id": "e31d15d7",
   "metadata": {},
   "outputs": [],
   "source": [
    "cum_cases = [count[np.min(np.where(count != 0)): count.size] for count in raw_cases]"
   ]
  },
  {
   "cell_type": "code",
   "execution_count": null,
   "id": "42e27b9f",
   "metadata": {},
   "outputs": [],
   "source": [
    "raw_deaths = np.array(death_data.iloc[0:N].drop([\"Province/State\", \"Country/Region\", \"Lat\", \"Long\"], axis=1))\n",
    "cum_deaths = [raw_deaths[i][(raw_cases[i].size - cum_cases[i].size):] for i in range(N)]\n",
    "fatal_est = [cum_deaths[i] / cum_cases[i] for i in range(N)]"
   ]
  },
  {
   "cell_type": "code",
   "execution_count": null,
   "id": "eafb43db",
   "metadata": {},
   "outputs": [],
   "source": [
    "fig, axs = plt.subplots(4, figsize=(15, 4))\n",
    "fig.suptitle(\"Covid-19 Case Fatality Rate Over Time\")\n",
    "plt.xlabel(\"Days Since First Nonzero Case Day\")\n",
    "for i in range(N):\n",
    "    axs[i].plot(fatal_est[i])\n",
    "    axs[i].set_ylabel(f'{names[i]}')"
   ]
  }
 ],
 "metadata": {
  "kernelspec": {
   "display_name": "Python 3 (ipykernel)",
   "language": "python",
   "name": "python3"
  },
  "language_info": {
   "codemirror_mode": {
    "name": "ipython",
    "version": 3
   },
   "file_extension": ".py",
   "mimetype": "text/x-python",
   "name": "python",
   "nbconvert_exporter": "python",
   "pygments_lexer": "ipython3",
   "version": "3.9.18"
  }
 },
 "nbformat": 4,
 "nbformat_minor": 5
}
