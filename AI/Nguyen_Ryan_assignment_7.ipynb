{
 "cells": [
  {
   "cell_type": "markdown",
   "metadata": {},
   "source": [
    "# Artificial Intelligence\n",
    "# 464/664\n",
    "# Assignment #7\n",
    "\n",
    "## General Directions for this Assignment\n",
    "\n",
    "00. We're using a Jupyter Notebook environment (tutorial available here: https://jupyter-notebook-beginner-guide.readthedocs.io/en/latest/what_is_jupyter.html),\n",
    "01. Output format should be exactly as requested (it is your responsibility to make sure notebook looks as expected on Gradescope),\n",
    "02. Check submission deadline on Gradescope, \n",
    "03. Rename the file to Last_First_assignment_7, \n",
    "04. Submit your notebook (as .ipynb, not PDF) using Gradescope, and\n",
    "05. Do not submit any other files.\n",
    "\n",
    "## Before You Submit...\n",
    "\n",
    "1. Re-read the general instructions provided above, and\n",
    "2. Hit \"Kernel\"->\"Restart & Run All\"."
   ]
  },
  {
   "cell_type": "markdown",
   "metadata": {},
   "source": [
    "## Neural Networks\n",
    "\n",
    "For this assignment we will implement a Neural Network. The dataset is the same dataset from Assignment #6. The goal is to classify a mushroom as either edible ('e') or poisonous ('p'). You are free to use PyTorch, TensorFlow, scikit-learn, to name a few resources; or code your own.\n",
    "\n",
    "\n",
    "Your output should look kind of like the output of `cross_validate` from Assignment #6:\n",
    "\n",
    "```\n",
    "Fold: 0\tTrain Error: 15.38%\tValidation Error: 0.00%\n",
    "```\n",
    "\n",
    "It doesn't have to be exactly the same.\n",
    "\n",
    "\n",
    "Notice that \"Test Error\" has been replaced by \"Validation Error.\" Split your dataset into train, test, and validation sets. \n",
    "\n",
    "\n",
    "Start with a simple network. Train using the train set. Observe model's performance using the validation set. \n",
    "\n",
    "\n",
    "Increase the complexity of your network. Train using the train set. Observe model's performance using the validation set. \n",
    "\n",
    "\n",
    "Model complexity in Assignment #6 was depth limit. You can think of it here as the architecture of the network (number of layers and units per layer). \n",
    "\n",
    "\n",
    "We're trying to find a model complexity that generalizes well. (Recall high bias vs high variance discussion in class.) \n",
    "\n",
    "\n",
    "Pick the network architecture that you deem best. Use the test set to report your winning model's performance. \n",
    "\n",
    "\n",
    "No other directions for this assignment, other than what's here and in the \"General Directions\" section. You have a lot of freedom with this assignment."
   ]
  },
  {
   "cell_type": "code",
   "execution_count": 1,
   "metadata": {},
   "outputs": [],
   "source": [
    "import numpy as np\n",
    "import pandas as pd\n",
    "from sklearn.preprocessing import OrdinalEncoder\n",
    "from sklearn.preprocessing import LabelEncoder\n",
    "from sklearn.model_selection import train_test_split\n",
    "from sklearn.model_selection import StratifiedKFold\n",
    "from sklearn.metrics import accuracy_score\n",
    "import torch\n",
    "import torch.nn as nn\n",
    "import torch.nn.functional as F\n",
    "import torch.optim as optim\n",
    "\n",
    "random_state = 1"
   ]
  },
  {
   "cell_type": "markdown",
   "metadata": {},
   "source": [
    "# Exploratory Analysis"
   ]
  },
  {
   "cell_type": "code",
   "execution_count": 2,
   "metadata": {},
   "outputs": [],
   "source": [
    "col_names = ['target', 'cap-shape',\n",
    "                   'cap-surface',\n",
    "                   'cap-color',\n",
    "                   'bruises?',\n",
    "                   'odor',\n",
    "                   'gill-attachment',\n",
    "                   'gill-spacing',\n",
    "                   'gill-size',\n",
    "                   'gill-color',\n",
    "                   'stalk-shape',\n",
    "                   'stalk-root',\n",
    "                   'stalk-surface-above-ring',\n",
    "                   'stalk-surface-below-ring',\n",
    "                   'stalk-color-above-ring',\n",
    "                   'stalk-color-below-ring',\n",
    "                   'veil-type',\n",
    "                   'veil-color',\n",
    "                   'ring-number',\n",
    "                   'ring-type',\n",
    "                   'spore-print-color',\n",
    "                   'population',\n",
    "                   'habitat']\n",
    "df = pd.read_csv(\"agaricus-lepiota.data\", names = col_names, index_col=False)"
   ]
  },
  {
   "cell_type": "code",
   "execution_count": 3,
   "metadata": {
    "scrolled": true
   },
   "outputs": [
    {
     "data": {
      "text/html": [
       "<div>\n",
       "<style scoped>\n",
       "    .dataframe tbody tr th:only-of-type {\n",
       "        vertical-align: middle;\n",
       "    }\n",
       "\n",
       "    .dataframe tbody tr th {\n",
       "        vertical-align: top;\n",
       "    }\n",
       "\n",
       "    .dataframe thead th {\n",
       "        text-align: right;\n",
       "    }\n",
       "</style>\n",
       "<table border=\"1\" class=\"dataframe\">\n",
       "  <thead>\n",
       "    <tr style=\"text-align: right;\">\n",
       "      <th></th>\n",
       "      <th>target</th>\n",
       "      <th>cap-shape</th>\n",
       "      <th>cap-surface</th>\n",
       "      <th>cap-color</th>\n",
       "      <th>bruises?</th>\n",
       "      <th>odor</th>\n",
       "      <th>gill-attachment</th>\n",
       "      <th>gill-spacing</th>\n",
       "      <th>gill-size</th>\n",
       "      <th>gill-color</th>\n",
       "      <th>...</th>\n",
       "      <th>stalk-surface-below-ring</th>\n",
       "      <th>stalk-color-above-ring</th>\n",
       "      <th>stalk-color-below-ring</th>\n",
       "      <th>veil-type</th>\n",
       "      <th>veil-color</th>\n",
       "      <th>ring-number</th>\n",
       "      <th>ring-type</th>\n",
       "      <th>spore-print-color</th>\n",
       "      <th>population</th>\n",
       "      <th>habitat</th>\n",
       "    </tr>\n",
       "  </thead>\n",
       "  <tbody>\n",
       "    <tr>\n",
       "      <th>0</th>\n",
       "      <td>p</td>\n",
       "      <td>x</td>\n",
       "      <td>s</td>\n",
       "      <td>n</td>\n",
       "      <td>t</td>\n",
       "      <td>p</td>\n",
       "      <td>f</td>\n",
       "      <td>c</td>\n",
       "      <td>n</td>\n",
       "      <td>k</td>\n",
       "      <td>...</td>\n",
       "      <td>s</td>\n",
       "      <td>w</td>\n",
       "      <td>w</td>\n",
       "      <td>p</td>\n",
       "      <td>w</td>\n",
       "      <td>o</td>\n",
       "      <td>p</td>\n",
       "      <td>k</td>\n",
       "      <td>s</td>\n",
       "      <td>u</td>\n",
       "    </tr>\n",
       "    <tr>\n",
       "      <th>1</th>\n",
       "      <td>e</td>\n",
       "      <td>x</td>\n",
       "      <td>s</td>\n",
       "      <td>y</td>\n",
       "      <td>t</td>\n",
       "      <td>a</td>\n",
       "      <td>f</td>\n",
       "      <td>c</td>\n",
       "      <td>b</td>\n",
       "      <td>k</td>\n",
       "      <td>...</td>\n",
       "      <td>s</td>\n",
       "      <td>w</td>\n",
       "      <td>w</td>\n",
       "      <td>p</td>\n",
       "      <td>w</td>\n",
       "      <td>o</td>\n",
       "      <td>p</td>\n",
       "      <td>n</td>\n",
       "      <td>n</td>\n",
       "      <td>g</td>\n",
       "    </tr>\n",
       "    <tr>\n",
       "      <th>2</th>\n",
       "      <td>e</td>\n",
       "      <td>b</td>\n",
       "      <td>s</td>\n",
       "      <td>w</td>\n",
       "      <td>t</td>\n",
       "      <td>l</td>\n",
       "      <td>f</td>\n",
       "      <td>c</td>\n",
       "      <td>b</td>\n",
       "      <td>n</td>\n",
       "      <td>...</td>\n",
       "      <td>s</td>\n",
       "      <td>w</td>\n",
       "      <td>w</td>\n",
       "      <td>p</td>\n",
       "      <td>w</td>\n",
       "      <td>o</td>\n",
       "      <td>p</td>\n",
       "      <td>n</td>\n",
       "      <td>n</td>\n",
       "      <td>m</td>\n",
       "    </tr>\n",
       "    <tr>\n",
       "      <th>3</th>\n",
       "      <td>p</td>\n",
       "      <td>x</td>\n",
       "      <td>y</td>\n",
       "      <td>w</td>\n",
       "      <td>t</td>\n",
       "      <td>p</td>\n",
       "      <td>f</td>\n",
       "      <td>c</td>\n",
       "      <td>n</td>\n",
       "      <td>n</td>\n",
       "      <td>...</td>\n",
       "      <td>s</td>\n",
       "      <td>w</td>\n",
       "      <td>w</td>\n",
       "      <td>p</td>\n",
       "      <td>w</td>\n",
       "      <td>o</td>\n",
       "      <td>p</td>\n",
       "      <td>k</td>\n",
       "      <td>s</td>\n",
       "      <td>u</td>\n",
       "    </tr>\n",
       "    <tr>\n",
       "      <th>4</th>\n",
       "      <td>e</td>\n",
       "      <td>x</td>\n",
       "      <td>s</td>\n",
       "      <td>g</td>\n",
       "      <td>f</td>\n",
       "      <td>n</td>\n",
       "      <td>f</td>\n",
       "      <td>w</td>\n",
       "      <td>b</td>\n",
       "      <td>k</td>\n",
       "      <td>...</td>\n",
       "      <td>s</td>\n",
       "      <td>w</td>\n",
       "      <td>w</td>\n",
       "      <td>p</td>\n",
       "      <td>w</td>\n",
       "      <td>o</td>\n",
       "      <td>e</td>\n",
       "      <td>n</td>\n",
       "      <td>a</td>\n",
       "      <td>g</td>\n",
       "    </tr>\n",
       "  </tbody>\n",
       "</table>\n",
       "<p>5 rows × 23 columns</p>\n",
       "</div>"
      ],
      "text/plain": [
       "  target cap-shape cap-surface cap-color bruises? odor gill-attachment  \\\n",
       "0      p         x           s         n        t    p               f   \n",
       "1      e         x           s         y        t    a               f   \n",
       "2      e         b           s         w        t    l               f   \n",
       "3      p         x           y         w        t    p               f   \n",
       "4      e         x           s         g        f    n               f   \n",
       "\n",
       "  gill-spacing gill-size gill-color  ... stalk-surface-below-ring  \\\n",
       "0            c         n          k  ...                        s   \n",
       "1            c         b          k  ...                        s   \n",
       "2            c         b          n  ...                        s   \n",
       "3            c         n          n  ...                        s   \n",
       "4            w         b          k  ...                        s   \n",
       "\n",
       "  stalk-color-above-ring stalk-color-below-ring veil-type veil-color  \\\n",
       "0                      w                      w         p          w   \n",
       "1                      w                      w         p          w   \n",
       "2                      w                      w         p          w   \n",
       "3                      w                      w         p          w   \n",
       "4                      w                      w         p          w   \n",
       "\n",
       "  ring-number ring-type spore-print-color population habitat  \n",
       "0           o         p                 k          s       u  \n",
       "1           o         p                 n          n       g  \n",
       "2           o         p                 n          n       m  \n",
       "3           o         p                 k          s       u  \n",
       "4           o         e                 n          a       g  \n",
       "\n",
       "[5 rows x 23 columns]"
      ]
     },
     "execution_count": 3,
     "metadata": {},
     "output_type": "execute_result"
    }
   ],
   "source": [
    "df.head()"
   ]
  },
  {
   "cell_type": "markdown",
   "metadata": {},
   "source": [
    "# Preprocessing"
   ]
  },
  {
   "cell_type": "code",
   "execution_count": 4,
   "metadata": {},
   "outputs": [],
   "source": [
    "# Selection\n",
    "X = np.asarray(df[col_names[1:]])\n",
    "y = np.asarray(df[col_names[0]])"
   ]
  },
  {
   "cell_type": "code",
   "execution_count": 5,
   "metadata": {},
   "outputs": [],
   "source": [
    "# Encoding\n",
    "X_encoder = OrdinalEncoder()\n",
    "X = X_encoder.fit_transform(X)\n",
    "y_encoder = LabelEncoder()\n",
    "y = y_encoder.fit_transform(y).reshape(-1, 1)"
   ]
  },
  {
   "cell_type": "code",
   "execution_count": 6,
   "metadata": {},
   "outputs": [],
   "source": [
    "# Splitting Data\n",
    "X_train, X_test, y_train, y_test = train_test_split(torch.tensor(X, dtype = torch.float32), torch.tensor(y, dtype = torch.float32), test_size=0.2, random_state = random_state)"
   ]
  },
  {
   "cell_type": "markdown",
   "metadata": {},
   "source": [
    "# Model Training"
   ]
  },
  {
   "cell_type": "markdown",
   "metadata": {},
   "source": [
    "## Training Hyperparameters "
   ]
  },
  {
   "cell_type": "code",
   "execution_count": 7,
   "metadata": {},
   "outputs": [],
   "source": [
    "numEpochs = 1000\n",
    "lr = 0.1\n",
    "loss_fn = nn.BCELoss()\n",
    "skf = StratifiedKFold(n_splits=5, shuffle=True, random_state = random_state)"
   ]
  },
  {
   "cell_type": "markdown",
   "metadata": {},
   "source": [
    "## Simple Model - 1 Hidden Layer"
   ]
  },
  {
   "cell_type": "code",
   "execution_count": 8,
   "metadata": {},
   "outputs": [],
   "source": [
    "class Simple(nn.Module):\n",
    "    def __init__(self, in_channels, out_channels):               \n",
    "        super().__init__()\n",
    "        self.pipe = nn.Sequential(nn.Linear(in_channels, in_channels // 2),   # 22, 11\n",
    "                                   nn.ReLU(),\n",
    "                                   nn.Linear(in_channels // 2, out_channels),  # 11, 1\n",
    "                                   nn.Sigmoid())\n",
    "        \n",
    "    def forward(self, x):\n",
    "        return self.pipe(x)"
   ]
  },
  {
   "cell_type": "code",
   "execution_count": 9,
   "metadata": {
    "scrolled": true
   },
   "outputs": [
    {
     "name": "stdout",
     "output_type": "stream",
     "text": [
      "Fold 0:    Average Train Accuracy: 93.23%    Validation Accuracy: 97.77%\n",
      "Fold 1:    Average Train Accuracy: 92.64%    Validation Accuracy: 95.31%\n",
      "Fold 2:    Average Train Accuracy: 93.77%    Validation Accuracy: 98.54%\n",
      "Fold 3:    Average Train Accuracy: 94.91%    Validation Accuracy: 99.31%\n",
      "Fold 4:    Average Train Accuracy: 93.43%    Validation Accuracy: 98.31%\n"
     ]
    }
   ],
   "source": [
    "# Cross Validation \n",
    "for i, (train_index, val_index) in enumerate(skf.split(X_train, y_train)):\n",
    "    model = Simple(22, 1)\n",
    "    optimizer = optim.SGD(model.parameters(), lr = lr)\n",
    "    model.train()\n",
    "    train_acc = 0.0\n",
    "    \n",
    "    for epoch in range(numEpochs):\n",
    "        # Forward propagation\n",
    "        y_pred = model(X_train[train_index])\n",
    "        \n",
    "        # Calculate loss and accuracy\n",
    "        loss = loss_fn(y_pred, y_train[train_index])\n",
    "        train_acc += (torch.round(y_pred) == y_train[train_index]).float().mean()\n",
    "\n",
    "        # Zero out the gradients before adding them up\n",
    "        model.zero_grad()\n",
    "\n",
    "        # Backprop\n",
    "        loss.backward()\n",
    "\n",
    "        # Optimization step\n",
    "        optimizer.step()\n",
    "        \n",
    "    model.eval()\n",
    "    y_pred = model(X_train[val_index])\n",
    "    val_acc = (torch.round(y_pred) == y_train[val_index]).float().mean()\n",
    "    print(f\"Fold {i}:    Average Train Accuracy: {train_acc / numEpochs * 100:.02f}%    Validation Accuracy: {val_acc * 100:.02f}%\")"
   ]
  },
  {
   "cell_type": "code",
   "execution_count": 10,
   "metadata": {
    "scrolled": true
   },
   "outputs": [
    {
     "name": "stdout",
     "output_type": "stream",
     "text": [
      "Loss: 0.67    Train Accuracy: 51.81%\n",
      "Loss: 0.37    Train Accuracy: 83.41%\n",
      "Loss: 0.27    Train Accuracy: 89.63%\n",
      "Loss: 0.22    Train Accuracy: 92.34%\n",
      "Loss: 0.20    Train Accuracy: 91.28%\n",
      "Loss: 0.15    Train Accuracy: 95.45%\n",
      "Loss: 0.14    Train Accuracy: 94.63%\n",
      "Loss: 0.11    Train Accuracy: 96.41%\n",
      "Loss: 0.09    Train Accuracy: 97.48%\n",
      "Loss: 0.07    Train Accuracy: 98.14%\n",
      "Loss: 0.06    Train Accuracy: 98.48%\n"
     ]
    }
   ],
   "source": [
    "# Training\n",
    "simple_model = Simple(22, 1)\n",
    "optimizer = optim.SGD(simple_model.parameters(), lr = lr)\n",
    "simple_model.train()\n",
    "\n",
    "for epoch in range(numEpochs):\n",
    "    # Forward propagation\n",
    "    y_pred = simple_model(X_train)\n",
    "\n",
    "    # Calculate loss and accuracy\n",
    "    loss = loss_fn(y_pred, y_train)\n",
    "    if epoch % 99 == 0:\n",
    "        acc = (torch.round(y_pred) == y_train).float().mean()\n",
    "        print(f'Loss: {loss:.02f}    Train Accuracy: {acc * 100:.02f}%')\n",
    "\n",
    "    # Zero out the gradients before adding them up\n",
    "    simple_model.zero_grad()\n",
    "\n",
    "    # Backprop\n",
    "    loss.backward()\n",
    "\n",
    "    # Optimization step\n",
    "    optimizer.step()\n",
    "    \n",
    "simple_model.zero_grad()"
   ]
  },
  {
   "cell_type": "markdown",
   "metadata": {},
   "source": [
    "## Intermediate Model - 2 Hidden Layers"
   ]
  },
  {
   "cell_type": "code",
   "execution_count": 11,
   "metadata": {},
   "outputs": [],
   "source": [
    "class Intermediate(nn.Module):\n",
    "    def __init__(self, in_channels, out_channels):\n",
    "        super().__init__()\n",
    "        self.hdim1 = in_channels // 2              \n",
    "        self.hdim2 = self.hdim1 // 2                            \n",
    "        \n",
    "        self.pipe = nn.Sequential(nn.Linear(in_channels, self.hdim1),    # 22, 11\n",
    "                                   nn.ReLU(),\n",
    "                                   nn.Linear(self.hdim1, self.hdim2),    # 11, 5\n",
    "                                   nn.ReLU(),\n",
    "                                   nn.Linear(self.hdim2, out_channels),  # 5, 1\n",
    "                                   nn.Sigmoid())\n",
    "        \n",
    "    def forward(self, x):\n",
    "        return self.pipe(x)"
   ]
  },
  {
   "cell_type": "code",
   "execution_count": 12,
   "metadata": {},
   "outputs": [
    {
     "name": "stdout",
     "output_type": "stream",
     "text": [
      "Fold 0:    Average Train Accuracy: 91.15%    Validation Accuracy: 97.54%\n",
      "Fold 1:    Average Train Accuracy: 92.62%    Validation Accuracy: 97.62%\n",
      "Fold 2:    Average Train Accuracy: 91.05%    Validation Accuracy: 98.85%\n",
      "Fold 3:    Average Train Accuracy: 92.73%    Validation Accuracy: 98.31%\n",
      "Fold 4:    Average Train Accuracy: 91.93%    Validation Accuracy: 95.00%\n"
     ]
    }
   ],
   "source": [
    "# Cross Validation\n",
    "for i, (train_index, val_index) in enumerate(skf.split(X_train, y_train)):\n",
    "    model = Intermediate(22, 1)\n",
    "    optimizer = optim.SGD(model.parameters(), lr = lr)\n",
    "    model.train()\n",
    "    train_acc = 0.0\n",
    "        \n",
    "    for epoch in range(numEpochs):\n",
    "        # Forward propagation\n",
    "        y_pred = model(X_train[train_index])\n",
    "        \n",
    "        # Calculate loss and accuracy\n",
    "        loss = loss_fn(y_pred, y_train[train_index])\n",
    "        train_acc += (torch.round(y_pred) == y_train[train_index]).float().mean()\n",
    "\n",
    "        # Zero out the gradients before adding them up\n",
    "        model.zero_grad()\n",
    "\n",
    "        # Backprop\n",
    "        loss.backward()\n",
    "\n",
    "        # Optimization step\n",
    "        optimizer.step()\n",
    "        \n",
    "    model.eval()\n",
    "    y_pred = model(X_train[val_index])\n",
    "    val_acc = (torch.round(y_pred) == y_train[val_index]).float().mean()\n",
    "    print(f\"Fold {i}:    Average Train Accuracy: {train_acc / numEpochs * 100:.02f}%    Validation Accuracy: {val_acc * 100:.02f}%\")"
   ]
  },
  {
   "cell_type": "code",
   "execution_count": 13,
   "metadata": {},
   "outputs": [
    {
     "name": "stdout",
     "output_type": "stream",
     "text": [
      "Loss: 0.72    Train Accuracy: 52.13%\n",
      "Loss: 0.48    Train Accuracy: 87.07%\n",
      "Loss: 0.26    Train Accuracy: 90.86%\n",
      "Loss: 0.29    Train Accuracy: 88.88%\n",
      "Loss: 0.16    Train Accuracy: 94.43%\n",
      "Loss: 0.10    Train Accuracy: 96.48%\n",
      "Loss: 0.07    Train Accuracy: 97.77%\n",
      "Loss: 0.05    Train Accuracy: 98.51%\n",
      "Loss: 0.06    Train Accuracy: 98.17%\n",
      "Loss: 0.07    Train Accuracy: 97.68%\n",
      "Loss: 0.04    Train Accuracy: 99.09%\n"
     ]
    }
   ],
   "source": [
    "# Training\n",
    "intermediate_model = Intermediate(22, 1)\n",
    "optimizer = optim.SGD(intermediate_model.parameters(), lr = lr)\n",
    "intermediate_model.train()\n",
    "\n",
    "for epoch in range(numEpochs):\n",
    "    # Forward propagation\n",
    "    y_pred = intermediate_model(X_train)\n",
    "\n",
    "    # Calculate loss and accuracy\n",
    "    loss = loss_fn(y_pred, y_train)\n",
    "    if epoch % 99 == 0:\n",
    "        acc = (torch.round(y_pred) == y_train).float().mean()\n",
    "        print(f'Loss: {loss:.02f}    Train Accuracy: {acc * 100:.02f}%')\n",
    "\n",
    "    # Zero out the gradients before adding them up\n",
    "    intermediate_model.zero_grad()\n",
    "\n",
    "    # Backprop\n",
    "    loss.backward()\n",
    "\n",
    "    # Optimization step\n",
    "    optimizer.step()\n",
    "    \n",
    "intermediate_model.zero_grad()"
   ]
  },
  {
   "cell_type": "markdown",
   "metadata": {},
   "source": [
    "## Complex Model - 3 Hidden Layers"
   ]
  },
  {
   "cell_type": "code",
   "execution_count": 14,
   "metadata": {},
   "outputs": [],
   "source": [
    "class Complex(nn.Module):\n",
    "    def __init__(self, in_channels, out_channels):\n",
    "        super().__init__()\n",
    "        self.hdim1 = in_channels // 2              \n",
    "        self.hdim2 = self.hdim1 // 2               \n",
    "        self.hdim3 = self.hdim2 // 2               \n",
    "        \n",
    "        self.pipe = nn.Sequential(nn.Linear(in_channels, self.hdim1),    # 22, 11\n",
    "                                  nn.ReLU(), \n",
    "                                  nn.Linear(self.hdim1, self.hdim2),     # 11, 5\n",
    "                                  nn.ReLU(),\n",
    "                                  nn.Linear(self.hdim2, self.hdim3),     # 5, 2\n",
    "                                  nn.ReLU(),\n",
    "                                  nn.Linear(self.hdim3, out_channels),   # 2, 1\n",
    "                                  nn.Sigmoid())\n",
    "        \n",
    "    def forward(self, x):\n",
    "        return self.pipe(x)"
   ]
  },
  {
   "cell_type": "code",
   "execution_count": 15,
   "metadata": {},
   "outputs": [
    {
     "name": "stdout",
     "output_type": "stream",
     "text": [
      "Fold 0:    Average Train Accuracy: 92.34%    Validation Accuracy: 98.54%\n",
      "Fold 1:    Average Train Accuracy: 79.34%    Validation Accuracy: 94.54%\n",
      "Fold 2:    Average Train Accuracy: 82.37%    Validation Accuracy: 96.54%\n",
      "Fold 3:    Average Train Accuracy: 91.46%    Validation Accuracy: 94.54%\n",
      "Fold 4:    Average Train Accuracy: 68.77%    Validation Accuracy: 93.53%\n"
     ]
    }
   ],
   "source": [
    "# Cross Validation\n",
    "for i, (train_index, val_index) in enumerate(skf.split(X_train, y_train)):\n",
    "    model = Complex(22, 1)\n",
    "    optimizer = optim.SGD(model.parameters(), lr = lr)\n",
    "    model.train()\n",
    "    train_acc = 0.0\n",
    "        \n",
    "    for epoch in range(numEpochs):\n",
    "        # Forward propagation\n",
    "        y_pred = model(X_train[train_index])\n",
    "        \n",
    "        # Calculate loss and accuracy\n",
    "        loss = loss_fn(y_pred, y_train[train_index])\n",
    "        train_acc += (torch.round(y_pred) == y_train[train_index]).float().mean()\n",
    "\n",
    "        # Zero out the gradients before adding them up\n",
    "        model.zero_grad()\n",
    "\n",
    "        # Backprop\n",
    "        loss.backward()\n",
    "\n",
    "        # Optimization step\n",
    "        optimizer.step()\n",
    "        \n",
    "    model.eval()\n",
    "    y_pred = model(X_train[val_index])\n",
    "    val_acc = (torch.round(y_pred) == y_train[val_index]).float().mean()\n",
    "    print(f\"Fold {i}:    Average Train Accuracy: {train_acc / numEpochs * 100:.02f}%    Validation Accuracy: {val_acc * 100:.02f}%\")"
   ]
  },
  {
   "cell_type": "code",
   "execution_count": 16,
   "metadata": {},
   "outputs": [
    {
     "name": "stdout",
     "output_type": "stream",
     "text": [
      "Loss: 0.71    Train Accuracy: 47.87%\n",
      "Loss: 0.45    Train Accuracy: 84.18%\n",
      "Loss: 0.36    Train Accuracy: 89.64%\n",
      "Loss: 0.30    Train Accuracy: 90.11%\n",
      "Loss: 0.29    Train Accuracy: 90.32%\n",
      "Loss: 0.23    Train Accuracy: 93.12%\n",
      "Loss: 0.11    Train Accuracy: 97.15%\n",
      "Loss: 0.09    Train Accuracy: 97.66%\n",
      "Loss: 0.07    Train Accuracy: 98.06%\n",
      "Loss: 0.05    Train Accuracy: 98.74%\n",
      "Loss: 0.26    Train Accuracy: 93.06%\n"
     ]
    }
   ],
   "source": [
    "# Training\n",
    "complex_model = Complex(22, 1)\n",
    "optimizer = optim.SGD(complex_model.parameters(), lr = lr)\n",
    "complex_model.train()\n",
    "\n",
    "for epoch in range(numEpochs):\n",
    "    # Forward propagation\n",
    "    y_pred = complex_model(X_train)\n",
    "\n",
    "    # Calculate loss and accuracy\n",
    "    loss = loss_fn(y_pred, y_train)\n",
    "    if epoch % 99 == 0:\n",
    "        acc = (torch.round(y_pred) == y_train).float().mean()\n",
    "        print(f'Loss: {loss:.02f}    Train Accuracy: {acc * 100:.02f}%')\n",
    "\n",
    "    # Zero out the gradients before adding them up\n",
    "    complex_model.zero_grad()\n",
    "\n",
    "    # Backprop\n",
    "    loss.backward()\n",
    "\n",
    "    # Optimization step\n",
    "    optimizer.step()\n",
    "    \n",
    "complex_model.zero_grad()"
   ]
  },
  {
   "cell_type": "markdown",
   "metadata": {},
   "source": [
    "# Model Testing"
   ]
  },
  {
   "cell_type": "markdown",
   "metadata": {},
   "source": [
    "## Simple Model - 1 Hidden Layer"
   ]
  },
  {
   "cell_type": "code",
   "execution_count": 17,
   "metadata": {
    "scrolled": true
   },
   "outputs": [
    {
     "name": "stdout",
     "output_type": "stream",
     "text": [
      "Simple Model Test Accuracy: 98.15%\n"
     ]
    }
   ],
   "source": [
    "simple_model.eval()\n",
    "y_pred = simple_model(X_test)\n",
    "test_acc = (torch.round(y_pred) == y_test).float().mean()\n",
    "print(f\"Simple Model Test Accuracy: {test_acc * 100:.02f}%\")"
   ]
  },
  {
   "cell_type": "markdown",
   "metadata": {},
   "source": [
    "## Intermediate Model - 2 Hidden Layers"
   ]
  },
  {
   "cell_type": "code",
   "execution_count": 18,
   "metadata": {},
   "outputs": [
    {
     "name": "stdout",
     "output_type": "stream",
     "text": [
      "Intermediate Model Test Accuracy: 96.43%\n"
     ]
    }
   ],
   "source": [
    "intermediate_model.eval()\n",
    "y_pred = intermediate_model(X_test)\n",
    "test_acc = (torch.round(y_pred) == y_test).float().mean()\n",
    "print(f\"Intermediate Model Test Accuracy: {test_acc * 100:.02f}%\")"
   ]
  },
  {
   "cell_type": "markdown",
   "metadata": {},
   "source": [
    "## Complex Model - 3 Hidden Layers"
   ]
  },
  {
   "cell_type": "code",
   "execution_count": 19,
   "metadata": {},
   "outputs": [
    {
     "name": "stdout",
     "output_type": "stream",
     "text": [
      "Complex Model Test Accuracy: 92.74%\n"
     ]
    }
   ],
   "source": [
    "complex_model.eval()\n",
    "y_pred = complex_model(X_test)\n",
    "test_acc = (torch.round(y_pred) == y_test).float().mean()\n",
    "print(f\"Complex Model Test Accuracy: {test_acc * 100:.02f}%\")"
   ]
  },
  {
   "cell_type": "markdown",
   "metadata": {},
   "source": [
    "<div style=\"background: lemonchiffon; margin:20px; padding: 20px;\">\n",
    "    <strong>Comment</strong>\n",
    "    <p>\n",
    "        Briefly comment here what the best architecture was and how it did on test data. \n",
    "    </p>\n",
    "</div>"
   ]
  },
  {
   "cell_type": "markdown",
   "metadata": {},
   "source": [
    "<b> During cross-validation, the simple and intermediate models achieved consistent 90+% training and validation accuracy on every fold. The complex model had mostly similar results albeit with a lower training accuracy in some folds. During testing, the simple model came in with the highest accuracy followed by the intermediate and complex model. Even though the difference in accuracy between the simple and intermediate model was only 2%, the decline in accuracy doubled for going from the intermediate to complex model. Due to these significant performance gaps and the fact that the simple model is less computationally expensive, the simple model is the best model for this situation. </b>"
   ]
  },
  {
   "cell_type": "markdown",
   "metadata": {},
   "source": [
    "## Before You Submit...\n",
    "\n",
    "1. Re-read the general instructions provided above, and\n",
    "2. Hit \"Kernel\"->\"Restart & Run All\"."
   ]
  }
 ],
 "metadata": {
  "kernelspec": {
   "display_name": "Python 3 (ipykernel)",
   "language": "python",
   "name": "python3"
  },
  "language_info": {
   "codemirror_mode": {
    "name": "ipython",
    "version": 3
   },
   "file_extension": ".py",
   "mimetype": "text/x-python",
   "name": "python",
   "nbconvert_exporter": "python",
   "pygments_lexer": "ipython3",
   "version": "3.9.18"
  },
  "toc": {
   "colors": {
    "hover_highlight": "#DAA520",
    "navigate_num": "#000000",
    "navigate_text": "#333333",
    "running_highlight": "#FF0000",
    "selected_highlight": "#FFD700",
    "sidebar_border": "#EEEEEE",
    "wrapper_background": "#FFFFFF"
   },
   "moveMenuLeft": true,
   "nav_menu": {
    "height": "81px",
    "width": "252px"
   },
   "navigate_menu": true,
   "number_sections": true,
   "sideBar": true,
   "threshold": 4,
   "toc_cell": false,
   "toc_section_display": "block",
   "toc_window_display": false,
   "widenNotebook": false
  }
 },
 "nbformat": 4,
 "nbformat_minor": 4
}
